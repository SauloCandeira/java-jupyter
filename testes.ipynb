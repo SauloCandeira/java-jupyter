{
 "cells": [
  {
   "cell_type": "code",
   "execution_count": 1,
   "id": "6d25daee",
   "metadata": {},
   "outputs": [
    {
     "name": "stdout",
     "output_type": "stream",
     "text": [
      "Hello World!\n"
     ]
    }
   ],
   "source": [
    "System.out.println( \"Hello Worl1d!\" );\n"
   ]
  },
  {
   "cell_type": "code",
   "execution_count": 18,
   "id": "7058c264",
   "metadata": {},
   "outputs": [
    {
     "name": "stdout",
     "output_type": "stream",
     "text": [
      "0.7853981633974483\n"
     ]
    },
    {
     "data": {
      "text/plain": [
       "0.7853981633974483"
      ]
     },
     "execution_count": 18,
     "metadata": {},
     "output_type": "execute_result"
    }
   ],
   "source": [
    "double a = Math.PI/4.0 ;\n",
    "System.out.println( a );\n",
    "3"
   ]
  },
  {
   "cell_type": "code",
   "execution_count": 19,
   "id": "ef7d7653",
   "metadata": {},
   "outputs": [
    {
     "name": "stdout",
     "output_type": "stream",
     "text": [
      "2.3\n"
     ]
    }
   ],
   "source": [
    "double b = 2.3 ;\n",
    "System.out.println( b );"
   ]
  }
 ],
 "metadata": {
  "interpreter": {
   "hash": "85cc409b474668ffa2fb03bdd9bcde1b5e75fc0689cbc5e4b367b22fe5247ba8"
  },
  "kernelspec": {
   "display_name": "Java",
   "language": "java",
   "name": "java"
  },
  "language_info": {
   "codemirror_mode": "java",
   "file_extension": ".jshell",
   "mimetype": "text/x-java-source",
   "name": "java",
   "pygments_lexer": "java",
   "version": "3.9.7"
  }
 },
 "nbformat": 4,
 "nbformat_minor": 5
}
